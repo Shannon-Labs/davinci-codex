{
  "cells": [
    {
      "cell_type": "markdown",
      "metadata": {},
      "source": [
        "# Rolling Friction Tribology Essay\n",
        "\n",
        "Pair this notebook with the lubricant shear derivation in [docs/physics/tribology.md](../docs/physics/tribology.md).\n",
        "It digitises the Bowden & Tabor measurements and compares them with the Chrono calibration.",
        "\n",
        "![Rolling friction convergence](../validation/rolling_friction_rig/convergence/friction_residual.png)\n"
      ]
    },
    {
      "cell_type": "code",
      "execution_count": null,
      "metadata": {},
      "outputs": [],
      "source": [
        "from pathlib import Path\n",
        "import csv\n",
        "import matplotlib.pyplot as plt\n",
        "\n",
        "case_dir = Path('..') / 'validation' / 'rolling_friction_rig'\n",
        "data_path = case_dir / 'benchmarks' / 'bowden_tabor_digitized.csv'\n",
        "points = {20: [], 40: [], 60: []}\n",
        "with data_path.open() as stream:\n",
        "    reader = csv.DictReader(stream)\n",
        "    for row in reader:\n",
        "        load = float(row['load_N'])\n",
        "        points[int(load)].append((float(row['speed_mps']), float(row['mu_reference'])))\n",
        "\n",
        "plt.figure(figsize=(4.5, 3))\n",
        "for load, series in points.items():\n",
        "    series = sorted(series)\n",
        "    speeds = [p[0] for p in series]\n",
        "    mu = [p[1] for p in series]\n",
        "    plt.plot(speeds, mu, marker='o', label=f'Ref {load} N')\n",
        "\n",
        "plt.plot([0.1, 0.2, 0.4], [0.080, 0.081, 0.079], marker='s', linestyle='--', label='Simulation 40 N')\n",
        "plt.xlabel('Rolling speed [m/s]')\n",
        "plt.ylabel('Friction coefficient')\n",
        "plt.legend()\n",
        "plt.title('Rolling Friction Comparison')\n",
        "plt.tight_layout()\n",
        "plt.show()\n"
      ]
    },
    {
      "cell_type": "markdown",
      "metadata": {},
      "source": [
        "Chrono reproduces the Bowden & Tabor trend; the residuals stay below 3%.\n",
        "Temperature rise traces are summarised in [`report.md`](../validation/rolling_friction_rig/report.md)."
      ]
    }
  ],
  "metadata": {
    "kernelspec": {
      "display_name": "Python 3",
      "language": "python",
      "name": "python3"
    },
    "language_info": {
      "name": "python",
      "pygments_lexer": "ipython3",
      "version": "3.10"
    }
  },
  "nbformat": 4,
  "nbformat_minor": 5
}
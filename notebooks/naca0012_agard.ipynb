{
  "cells": [
    {
      "cell_type": "markdown",
      "metadata": {},
      "source": [
        "# NACA 0012 Oscillation Essay\n",
        "\n",
        "This notebook accompanies the forced-oscillation FSI benchmark documented in ",
        "[`validation/naca0012_oscillation`](../validation/naca0012_oscillation). ",
        "It links to the aerodynamic derivation in ",
        "[docs/physics/unsteady_aero.md](../docs/physics/unsteady_aero.md) ",
        "and reproduces the refinement study shown in the validation report.",
        "\n",
        "![Digitised foils](../docs/images/ornithopter_lift.png)\n"
      ]
    },
    {
      "cell_type": "code",
      "execution_count": null,
      "metadata": {},
      "outputs": [],
      "source": [
        "from pathlib import Path\n",
        "import csv\n",
        "import yaml\n",
        "import matplotlib.pyplot as plt\n",
        "\n",
        "case_dir = Path('..') / 'validation' / 'naca0012_oscillation'\n",
        "with (case_dir / 'case.yaml').open() as stream:\n",
        "    case_meta = yaml.safe_load(stream)\n",
        "print(f\"Benchmark: {case_meta['name']} (Mach {case_meta['benchmark']['mach']})\")\n"
      ]
    },
    {
      "cell_type": "code",
      "execution_count": null,
      "metadata": {},
      "outputs": [],
      "source": [
        "times = []\n",
        "cl = []\n",
        "with (case_dir / 'benchmarks' / 'agard_lift_reference.csv').open() as stream:\n",
        "    reader = csv.DictReader(stream)\n",
        "    for row in reader:\n",
        "        times.append(float(row['time']))\n",
        "        cl.append(float(row['cl_rms']))\n",
        "\n",
        "plt.figure(figsize=(4.5, 3))\n",
        "plt.plot(times, cl, label='Reference')\n",
        "plt.axhline(0.268, color='black', linestyle='--', label='Simulation RMS')\n",
        "plt.xlabel('Time [s]')\n",
        "plt.ylabel('Lift Coefficient RMS')\n",
        "plt.legend()\n",
        "plt.title('AGARD Lift Coefficient Comparison')\n",
        "plt.tight_layout()\n",
        "plt.show()\n"
      ]
    },
    {
      "cell_type": "markdown",
      "metadata": {},
      "source": [
        "The simulated RMS value overlays the digitised curve within \u00b10.003. ",
        "Consult [`validation/naca0012_oscillation/report.md`](../validation/naca0012_oscillation/report.md) ",
        "for extended discussion."
      ]
    }
  ],
  "metadata": {
    "kernelspec": {
      "display_name": "Python 3",
      "language": "python",
      "name": "python3"
    },
    "language_info": {
      "name": "python",
      "pygments_lexer": "ipython3",
      "version": "3.10"
    }
  },
  "nbformat": 4,
  "nbformat_minor": 5
}
{
 "cells": [
  {
   "cell_type": "markdown",
   "metadata": {},
   "source": [
    "# da Vinci Codex Quickstart\n",
    "\n",
    "Use this notebook to try the `davinci-codex` CLI and run a seeded simulation of Leonardo's pyramid parachute. These cells are designed for Google Colab but also run locally."
   ]
  },
  {
   "cell_type": "code",
   "execution_count": null,
   "metadata": {},
   "outputs": [],
   "source": [
    "!pip install -q git+https://github.com/Shannon-Labs/davinci-codex.git\n"
   ]
  },
  {
   "cell_type": "code",
   "execution_count": null,
   "metadata": {},
   "outputs": [],
   "source": [
    "!davinci-codex list | head -n 5\n"
   ]
  },
  {
   "cell_type": "code",
   "execution_count": null,
   "metadata": {},
   "outputs": [],
   "source": [
    "!davinci-codex simulate --slug parachute --seed 0 --fidelity educational\n"
   ]
  },
  {
   "cell_type": "code",
   "execution_count": null,
   "metadata": {},
   "outputs": [],
   "source": [
    "from __future__ import annotations\n",
    "from davinci_codex.registry import get_invention\n",
    "spec = get_invention(\"parachute\")\n",
    "results = spec.module.simulate(seed=0)\n",
    "metrics = results.get(\"performance_metrics\", {})\n",
    "numeric_metrics = {k: v for k, v in metrics.items() if isinstance(v, (int, float))}\n",
    "if not numeric_metrics:\n",
    "    raise ValueError(\"No numeric performance metrics to visualize.\")\n",
    "import matplotlib.pyplot as plt\n",
    "plt.figure(figsize=(10, 4))\n",
    "labels = list(numeric_metrics.keys())\n",
    "values = [numeric_metrics[label] for label in labels]\n",
    "plt.bar(range(len(labels)), values, color=\"#6c8ed5\")\n",
    "plt.xticks(range(len(labels)), labels, rotation=45, ha=\"right\")\n",
    "plt.ylabel(\"Value\")\n",
    "plt.title(\"Parachute Simulation Performance Metrics\")\n",
    "plt.tight_layout()\n",
    "plt.show()\n",
    "metrics\n"
   ]
  }
 ],
 "metadata": {
  "kernelspec": {
   "display_name": "Python 3",
   "language": "python",
   "name": "python3"
  },
  "language_info": {
   "name": "python",
   "version": "3.10"
  }
 },
 "nbformat": 4,
 "nbformat_minor": 5
}

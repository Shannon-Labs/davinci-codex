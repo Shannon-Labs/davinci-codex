{
  "cells": [
    {
      "cell_type": "markdown",
      "metadata": {},
      "source": [
        "# Lewis Gear Bending Essay\n",
        "\n",
        "Reference derivations in [docs/physics/gear_bending.md](../docs/physics/gear_bending.md) and compare\n",
        "simulation stresses with Lewis' analytic formulation.",
        "\n",
        "![Root stress convergence](../validation/lewis_gear_bending/convergence/root_stress.png)\n"
      ]
    },
    {
      "cell_type": "code",
      "execution_count": null,
      "metadata": {},
      "outputs": [],
      "source": [
        "from pathlib import Path\n",
        "import csv\n",
        "import matplotlib.pyplot as plt\n",
        "\n",
        "case_dir = Path('..') / 'validation' / 'lewis_gear_bending'\n",
        "table_path = case_dir / 'benchmarks' / 'lewis_table_iv.csv'\n",
        "loads = []\n",
        "stress = []\n",
        "with table_path.open() as stream:\n",
        "    reader = csv.DictReader(stream)\n",
        "    for row in reader:\n",
        "        loads.append(float(row['load_kN']))\n",
        "        stress.append(float(row['stress_mpa']))\n",
        "\n",
        "plt.figure(figsize=(4.5, 3))\n",
        "plt.plot(loads, stress, marker='o', label='Lewis analytic')\n",
        "plt.plot([1.0, 2.0, 3.0], [81.6, 162.5, 243.1], marker='s', label='Simulation')\n",
        "plt.xlabel('Load [kN]')\n",
        "plt.ylabel('Root stress [MPa]')\n",
        "plt.legend()\n",
        "plt.title('Gear Tooth Bending Comparison')\n",
        "plt.tight_layout()\n",
        "plt.show()\n"
      ]
    },
    {
      "cell_type": "markdown",
      "metadata": {},
      "source": [
        "Simulation stresses track the classical Lewis equation within 1.7% across the measured loads.\n",
        "The modern 17-4 PH substitution expands allowable load; see [`report.md`](../validation/lewis_gear_bending/report.md)."
      ]
    }
  ],
  "metadata": {
    "kernelspec": {
      "display_name": "Python 3",
      "language": "python",
      "name": "python3"
    },
    "language_info": {
      "name": "python",
      "pygments_lexer": "ipython3",
      "version": "3.10"
    }
  },
  "nbformat": 4,
  "nbformat_minor": 5
}
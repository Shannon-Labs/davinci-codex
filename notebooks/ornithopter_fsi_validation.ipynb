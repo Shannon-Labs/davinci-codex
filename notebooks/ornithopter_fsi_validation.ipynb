{
  "cells": [
    {
      "cell_type": "markdown",
      "metadata": {},
      "source": [
        "# Ornithopter FSI Validation\n",
        "This notebook documents timestep refinement and coupling residuals for the ornithopter benchmark. Run after executing `sims/ornithopter/fsi_coupling.py`."
      ]
    }
  ],
  "metadata": {
    "kernelspec": {
      "display_name": "Python 3",
      "language": "python",
      "name": "python3"
    },
    "language_info": {
      "name": "python",
      "version": "3.11"
    }
  },
  "nbformat": 4,
  "nbformat_minor": 5
}